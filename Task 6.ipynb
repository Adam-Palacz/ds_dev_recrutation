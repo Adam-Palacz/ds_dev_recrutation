{
 "cells": [
  {
   "cell_type": "markdown",
   "metadata": {},
   "source": [
    "#### 6. NumPy - random walk: \n",
    "a. Write a program that creates the NumPy array with a leading element of 0. \\\n",
    "b. Fill the table with 100 numbers. Each number should be a sum of the previous number and the value drawn from the set (-1, 1). \\\n",
    "c. Create a graph based on the data in the table. \\\n",
    "d. Find minimum and maximum values in the created array. \\\n",
    "e. Simulate creating an array 50 times and see how many cases have managed to exceed 30 in any given step. Illustrate the results on the graph. \n"
   ]
  },
  {
   "cell_type": "markdown",
   "metadata": {},
   "source": [
    "#### Answer: "
   ]
  },
  {
   "cell_type": "code",
   "execution_count": 1,
   "metadata": {},
   "outputs": [],
   "source": [
    "import numpy as np"
   ]
  },
  {
   "cell_type": "markdown",
   "metadata": {},
   "source": [
    "a. Write a program that creates the NumPy array with a leading element of 0."
   ]
  },
  {
   "cell_type": "code",
   "execution_count": 2,
   "metadata": {},
   "outputs": [
    {
     "data": {
      "text/plain": [
       "array([0])"
      ]
     },
     "execution_count": 2,
     "metadata": {},
     "output_type": "execute_result"
    }
   ],
   "source": [
    "arr = np.array([0])\n",
    "arr"
   ]
  },
  {
   "cell_type": "markdown",
   "metadata": {},
   "source": [
    "b. Fill the table with 100 numbers. Each number should be a sum of the previous number and the value drawn from the set (-1, 1)."
   ]
  },
  {
   "cell_type": "code",
   "execution_count": 3,
   "metadata": {},
   "outputs": [
    {
     "data": {
      "text/plain": [
       "array([ 0,  1,  1,  2,  3,  2,  3,  2,  1,  2,  2,  1,  1,  2,  2,  3,  4,\n",
       "        3,  4,  5,  4,  4,  5,  5,  5,  6,  5,  6,  6,  6,  6,  6,  7,  8,\n",
       "        9,  8,  8,  7,  7,  6,  5,  4,  5,  5,  4,  3,  3,  2,  3,  3,  3,\n",
       "        2,  1,  2,  2,  1,  1,  1,  0,  0,  0,  0, -1, -2, -3, -3, -3, -2,\n",
       "       -1, -1,  0, -1,  0,  0,  0, -1, -1, -1,  0,  0, -1,  0, -1,  0, -1,\n",
       "       -2, -1, -2, -3, -2, -3, -3, -2, -3, -4, -3, -3, -4, -4, -3, -4])"
      ]
     },
     "execution_count": 3,
     "metadata": {},
     "output_type": "execute_result"
    }
   ],
   "source": [
    "random_array = arr\n",
    "\n",
    "for number in range(1,101):\n",
    "    random_number = np.random.randint(-1,1+1)\n",
    "    random_array = np.append(random_array, [random_number+random_array[number-1]])\n",
    "    \n",
    "random_array"
   ]
  },
  {
   "cell_type": "markdown",
   "metadata": {},
   "source": [
    "c. Create a graph based on the data in the table."
   ]
  },
  {
   "cell_type": "code",
   "execution_count": 4,
   "metadata": {},
   "outputs": [],
   "source": [
    "import matplotlib.pyplot as plt"
   ]
  },
  {
   "cell_type": "code",
   "execution_count": 5,
   "metadata": {},
   "outputs": [
    {
     "data": {
      "text/plain": [
       "[<matplotlib.lines.Line2D at 0x1a5cbbb0850>]"
      ]
     },
     "execution_count": 5,
     "metadata": {},
     "output_type": "execute_result"
    },
    {
     "data": {
      "image/png": "[encoded data removed]",
      "text/plain": [
       "<Figure size 432x288 with 1 Axes>"
      ]
     },
     "metadata": {
      "needs_background": "light"
     },
     "output_type": "display_data"
    }
   ],
   "source": [
    "plt.title(\"Random array visualisation\")\n",
    "plt.plot(random_array)"
   ]
  },
  {
   "cell_type": "markdown",
   "metadata": {},
   "source": [
    "d. Find minimum and maximum values in the created array."
   ]
  },
  {
   "cell_type": "code",
   "execution_count": 6,
   "metadata": {},
   "outputs": [
    {
     "name": "stdout",
     "output_type": "stream",
     "text": [
      "Max number in array: 9\n",
      "Min number in array: -4\n"
     ]
    }
   ],
   "source": [
    "max_number = random_array.max()\n",
    "min_number = random_array.min()\n",
    "\n",
    "print(f\"Max number in array: {max_number}\")\n",
    "print(f\"Min number in array: {min_number}\")"
   ]
  },
  {
   "cell_type": "markdown",
   "metadata": {},
   "source": [
    "e. Simulate creating an array 50 times and see how many cases have managed to exceed 30 in any given step. Illustrate the results on the graph."
   ]
  },
  {
   "cell_type": "code",
   "execution_count": 7,
   "metadata": {},
   "outputs": [
    {
     "name": "stdout",
     "output_type": "stream",
     "text": [
      "[]\n",
      "[]\n",
      "[<matplotlib.lines.Line2D object at 0x000001A5CBEF5160>]\n"
     ]
    },
    {
     "data": {
      "image/png": "[encoded data removed]",
      "text/plain": [
       "<Figure size 432x288 with 1 Axes>"
      ]
     },
     "metadata": {
      "needs_background": "light"
     },
     "output_type": "display_data"
    }
   ],
   "source": [
    "# start, end - range of random numbers\n",
    "def array_simulation(start=-1, end=1):\n",
    "    random_array_simulate = arr\n",
    "    counter = 0\n",
    "    counter_list = [] # list for counter number when array max value was greater than 30 to use for plot data\n",
    "    simulation_number = [] # list for number of simulation where array max value was greater than 30\n",
    "\n",
    "    for simulation in range(51):\n",
    "\n",
    "        for number in range(1,101):\n",
    "            random_number = np.random.randint(start, end+1) #range -1,1 very rarely gives max greater than 30\n",
    "            random_array_simulate = np.append(random_array_simulate, [random_number+random_array_simulate[number-1]])\n",
    "\n",
    "        if random_array_simulate.max()>=30:\n",
    "            counter+=1\n",
    "            counter_list.append(counter)\n",
    "            simulation_number.append(simulation)\n",
    "\n",
    "        random_array_simulate = arr\n",
    "\n",
    "    print(simulation_number) # show number of simulation where array max value was greater than 30\n",
    "    print(counter_list) # show counter value when array max value was greater than 30\n",
    "\n",
    "    x = simulation_number\n",
    "    y = counter_list\n",
    "    plt.title(\"Random array simulation\")\n",
    "    plt.xlabel(\"Simulation number\")\n",
    "    plt.ylabel(\"Greater than 30 counter\")\n",
    "    \n",
    "    return plt.plot(x, y)\n",
    "    \n",
    "print(array_simulation())"
   ]
  },
  {
   "cell_type": "code",
   "execution_count": 8,
   "metadata": {},
   "outputs": [
    {
     "name": "stdout",
     "output_type": "stream",
     "text": [
      "[0, 1, 2, 3, 4, 6, 8, 9, 11, 12, 14, 15, 16, 17, 19, 21, 22, 24, 25, 28, 29, 31, 33, 35, 36, 37, 39, 40, 42, 43, 44, 45, 46, 48, 50]\n",
      "[1, 2, 3, 4, 5, 6, 7, 8, 9, 10, 11, 12, 13, 14, 15, 16, 17, 18, 19, 20, 21, 22, 23, 24, 25, 26, 27, 28, 29, 30, 31, 32, 33, 34, 35]\n",
      "[<matplotlib.lines.Line2D object at 0x000001A5CBF46070>]\n"
     ]
    },
    {
     "data": {
      "image/png": "[encoded data removed]",
      "text/plain": [
       "<Figure size 432x288 with 1 Axes>"
      ]
     },
     "metadata": {
      "needs_background": "light"
     },
     "output_type": "display_data"
    }
   ],
   "source": [
    "# simulation for a larger range of number to show that function works\n",
    "print(array_simulation(-10,10))"
   ]
  }
 ],
 "metadata": {
  "kernelspec": {
   "display_name": "Python 3",
   "language": "python",
   "name": "python3"
  },
  "language_info": {
   "codemirror_mode": {
    "name": "ipython",
    "version": 3
   },
   "file_extension": ".py",
   "mimetype": "text/x-python",
   "name": "python",
   "nbconvert_exporter": "python",
   "pygments_lexer": "ipython3",
   "version": "3.8.5"
  }
 },
 "nbformat": 4,
 "nbformat_minor": 5
}
