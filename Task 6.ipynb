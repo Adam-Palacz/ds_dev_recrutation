{
 "cells": [
  {
   "cell_type": "markdown",
   "id": "516d2c22",
   "metadata": {},
   "source": [
    "#### 6. NumPy - random walk: \n",
    "a. Write a program that creates the NumPy array with a leading element of 0. \\\n",
    "b. Fill the table with 100 numbers. Each number should be a sum of the previous number and the value drawn from the set (-1, 1). \\\n",
    "c. Create a graph based on the data in the table. \\\n",
    "d. Find minimum and maximum values in the created array. \\\n",
    "e. Simulate creating an array 50 times and see how many cases have managed to exceed 30 in any given step. Illustrate the results on the graph. \n"
   ]
  },
  {
   "cell_type": "markdown",
   "id": "eb13ff25",
   "metadata": {},
   "source": [
    "#### Answer: "
   ]
  },
  {
   "cell_type": "code",
   "execution_count": 1,
   "id": "73def43e",
   "metadata": {},
   "outputs": [],
   "source": [
    "import numpy as np"
   ]
  },
  {
   "cell_type": "markdown",
   "id": "d725a177",
   "metadata": {},
   "source": [
    "a. Write a program that creates the NumPy array with a leading element of 0."
   ]
  },
  {
   "cell_type": "code",
   "execution_count": 2,
   "id": "11af584b",
   "metadata": {},
   "outputs": [
    {
     "data": {
      "text/plain": [
       "array([0])"
      ]
     },
     "execution_count": 2,
     "metadata": {},
     "output_type": "execute_result"
    }
   ],
   "source": [
    "arr = np.array([0])\n",
    "arr"
   ]
  },
  {
   "cell_type": "markdown",
   "id": "a8eb03d7",
   "metadata": {},
   "source": [
    "b. Fill the table with 100 numbers. Each number should be a sum of the previous number and the value drawn from the set (-1, 1)."
   ]
  },
  {
   "cell_type": "code",
   "execution_count": 3,
   "id": "cb3420d8",
   "metadata": {},
   "outputs": [
    {
     "data": {
      "text/plain": [
       "array([ 0,  0,  1,  2,  2,  2,  1,  2,  3,  4,  4,  5,  6,  6,  5,  4,  4,\n",
       "        5,  4,  3,  4,  5,  6,  7,  6,  7,  8,  9,  9,  8,  8,  7,  8,  7,\n",
       "        7,  8,  8,  8,  7,  7,  7,  8,  8,  9,  9, 10,  9,  8,  7,  6,  5,\n",
       "        5,  4,  3,  3,  4,  5,  6,  5,  5,  4,  3,  4,  5,  4,  4,  3,  4,\n",
       "        4,  4,  5,  4,  5,  4,  5,  4,  5,  5,  4,  5,  6,  6,  6,  6,  5,\n",
       "        6,  6,  5,  6,  7,  6,  7,  8,  8,  9,  8,  9,  8,  8,  9,  8])"
      ]
     },
     "execution_count": 3,
     "metadata": {},
     "output_type": "execute_result"
    }
   ],
   "source": [
    "random_array = arr\n",
    "\n",
    "for number in range(1,101):\n",
    "    random_number = np.random.randint(-1,2)\n",
    "    random_array = np.append(random_array, [random_number+random_array[number-1]])\n",
    "    \n",
    "random_array"
   ]
  },
  {
   "cell_type": "markdown",
   "id": "cd348d58",
   "metadata": {},
   "source": [
    "c. Create a graph based on the data in the table."
   ]
  },
  {
   "cell_type": "code",
   "execution_count": 4,
   "id": "08d2e080",
   "metadata": {},
   "outputs": [],
   "source": [
    "import matplotlib.pyplot as plt"
   ]
  },
  {
   "cell_type": "code",
   "execution_count": 5,
   "id": "dbbc7929",
   "metadata": {},
   "outputs": [
    {
     "data": {
      "text/plain": [
       "[<matplotlib.lines.Line2D at 0x25f57c2abe0>]"
      ]
     },
     "execution_count": 5,
     "metadata": {},
     "output_type": "execute_result"
    },
    {
     "data": {
      "image/png": "[encoded data removed]",
      "text/plain": [
       "<Figure size 432x288 with 1 Axes>"
      ]
     },
     "metadata": {
      "needs_background": "light"
     },
     "output_type": "display_data"
    }
   ],
   "source": [
    "plt.title(\"Random array visualisation\")\n",
    "plt.plot(random_array)"
   ]
  },
  {
   "cell_type": "markdown",
   "id": "2d43753f",
   "metadata": {},
   "source": [
    "d. Find minimum and maximum values in the created array."
   ]
  },
  {
   "cell_type": "code",
   "execution_count": 6,
   "id": "35df0423",
   "metadata": {},
   "outputs": [
    {
     "name": "stdout",
     "output_type": "stream",
     "text": [
      "Max number in array: 10\n",
      "Min number in array: 0\n"
     ]
    }
   ],
   "source": [
    "max_number = random_array.max()\n",
    "min_number = random_array.min()\n",
    "\n",
    "print(f\"Max number in array: {max_number}\")\n",
    "print(f\"Min number in array: {min_number}\")"
   ]
  },
  {
   "cell_type": "markdown",
   "id": "af815cf7",
   "metadata": {},
   "source": [
    "e. Simulate creating an array 50 times and see how many cases have managed to exceed 30 in any given step. Illustrate the results on the graph."
   ]
  },
  {
   "cell_type": "code",
   "execution_count": 7,
   "id": "778b1346",
   "metadata": {},
   "outputs": [
    {
     "name": "stdout",
     "output_type": "stream",
     "text": [
      "[]\n",
      "[<matplotlib.lines.Line2D object at 0x0000025F583BEC40>]\n"
     ]
    },
    {
     "data": {
      "image/png": "[encoded data removed]",
      "text/plain": [
       "<Figure size 432x288 with 1 Axes>"
      ]
     },
     "metadata": {
      "needs_background": "light"
     },
     "output_type": "display_data"
    }
   ],
   "source": [
    " def array_simulation(start=-1, end=2):\n",
    "    random_array_simulate = arr\n",
    "    counter = 0\n",
    "    counter_list = []\n",
    "    simulation_number = []\n",
    "\n",
    "    for simulation in range(51):\n",
    "\n",
    "        for number in range(1,101):\n",
    "            random_number = np.random.randint(start, end) #range -1,1 very rarely gives max greater than 30\n",
    "            random_array_simulate = np.append(random_array_simulate, [random_number+random_array_simulate[number-1]])\n",
    "\n",
    "        if random_array_simulate.max() >= 30:\n",
    "            counter+=1\n",
    "            counter_list.append(counter)\n",
    "            simulation_number.append(simulation)\n",
    "\n",
    "        random_array_simulate = arr\n",
    "\n",
    "    print(simulation_number)\n",
    "\n",
    "    x = simulation_number\n",
    "    y = counter_list\n",
    "    plt.title(\"Random array simulation\")\n",
    "    plt.xlabel(\"Simulation number\")\n",
    "    plt.ylabel(\"Greater than 30 counter\")\n",
    "    return plt.plot(x, y)\n",
    "    \n",
    "print(array_simulation())"
   ]
  },
  {
   "cell_type": "code",
   "execution_count": 8,
   "id": "10577ec4",
   "metadata": {},
   "outputs": [
    {
     "name": "stdout",
     "output_type": "stream",
     "text": [
      "[0, 1, 2, 3, 4, 5, 6, 7, 8, 9, 10, 11, 12, 13, 14, 15, 16, 17, 18, 19, 20, 21, 22, 23, 24, 25, 26, 27, 28, 29, 30, 31, 32, 33, 34, 35, 36, 37, 38, 39, 40, 41, 42, 43, 44, 45, 46, 47, 48, 49, 50]\n",
      "[<matplotlib.lines.Line2D object at 0x0000025F584214F0>]\n"
     ]
    },
    {
     "data": {
      "image/png": "[encoded data removed]",
      "text/plain": [
       "<Figure size 432x288 with 1 Axes>"
      ]
     },
     "metadata": {
      "needs_background": "light"
     },
     "output_type": "display_data"
    }
   ],
   "source": [
    "print(array_simulation(-1,3))"
   ]
  },
  {
   "cell_type": "code",
   "execution_count": null,
   "id": "b7090cc3",
   "metadata": {},
   "outputs": [],
   "source": []
  }
 ],
 "metadata": {
  "kernelspec": {
   "display_name": "Python 3",
   "language": "python",
   "name": "python3"
  },
  "language_info": {
   "codemirror_mode": {
    "name": "ipython",
    "version": 3
   },
   "file_extension": ".py",
   "mimetype": "text/x-python",
   "name": "python",
   "nbconvert_exporter": "python",
   "pygments_lexer": "ipython3",
   "version": "3.9.0"
  }
 },
 "nbformat": 4,
 "nbformat_minor": 5
}
