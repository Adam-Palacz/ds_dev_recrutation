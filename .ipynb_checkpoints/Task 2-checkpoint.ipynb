{
 "cells": [
  {
   "cell_type": "markdown",
   "id": "1c9b9f34",
   "metadata": {},
   "source": [
    "#### 2. Read following company names and names of people. List which of them are incorrect and explain why in a few words. You can use an online translator.\n",
    "\n",
    "\n",
    "people:\\\n",
    "Martin Schultz\\\n",
    "Erste Geschäftsführer\\\n",
    "Udo Koch\\\n",
    "Ludvik Alan Bohn\\\n",
    "Mathias von Richthofen\\\n",
    "Prosecutor Erstellen\\\n",
    "And I Automatisch\\\n",
    "Essen Wiesbaden\\\n",
    "W. B. Schuler\\\n",
    "Helga Koch\\\n",
    "Kaufmann Gesellschafter\\\n",
    "Martin Schmidt\\\n",
    "Vaclav Baumer\\\n",
    "Diplom Ingenieur\\\n",
    "Hans Jens Kowalski\\\n",
    "A. Konditorei\n",
    "\n",
    "company names:\\\n",
    "Companyhouse AG\\\n",
    "als Liquidator\\\n",
    "bisherige Unternehmen\\\n",
    "Persönlichhistender Gesellschafter\\\n",
    "München Stadt\\\n",
    "Vereinigten Staaten\\\n",
    "Hofbau GmbH\\\n",
    "Altor Co. KG\\\n",
    "Ticos Systems\\\n",
    "Schwarz Immobilien"
   ]
  },
  {
   "cell_type": "markdown",
   "id": "a02ff1ce",
   "metadata": {},
   "source": [
    "#### Answer:\n",
    "people:\\\n",
    "Erste Geschäftsführer - job title\\\n",
    "Prosecutor Erstellen - name of the activity\\\n",
    "And I Automatisch - it is not a person's name\\\n",
    "Kaufmann Gesellschafter - name of the profession\\\n",
    "Diplom Ingenieur - education name\\\n",
    "\n",
    "company names:\\\n",
    "als Liquidator - translate: as a liquidator, this is not the name of the company\\\n",
    "bisherige Unternehmen - translate: previous businesses, this is not the name of the company \\\n",
    "Persönlichhistender Gesellschafter - there should be Persönlich Haftender Gesellschafter and there is no such company\\\n",
    "München Stadt - City name (the city is not a company)\\\n",
    "Vereinigten Staaten - Country name (country is not a company)\\\n",
    "Hofbau GmbH - there should be Hochbau GmbH (construnction company in Greifswald)\\\n",
    "Altor Co. KG - there should be ALTOR Gmbh and also it's the previous name of the company Axactor Germany GmbH"
   ]
  },
  {
   "cell_type": "code",
   "execution_count": null,
   "id": "8c3d9145",
   "metadata": {},
   "outputs": [],
   "source": []
  }
 ],
 "metadata": {
  "kernelspec": {
   "display_name": "Python 3",
   "language": "python",
   "name": "python3"
  },
  "language_info": {
   "codemirror_mode": {
    "name": "ipython",
    "version": 3
   },
   "file_extension": ".py",
   "mimetype": "text/x-python",
   "name": "python",
   "nbconvert_exporter": "python",
   "pygments_lexer": "ipython3",
   "version": "3.9.0"
  }
 },
 "nbformat": 4,
 "nbformat_minor": 5
}
