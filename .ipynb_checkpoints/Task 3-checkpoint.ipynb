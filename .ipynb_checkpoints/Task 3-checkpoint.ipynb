{
 "cells": [
  {
   "cell_type": "markdown",
   "id": "e936eb2d",
   "metadata": {},
   "source": [
    "#### 3. Read the texts below and list the names of companies, commercial register numbers, personal data, function in a company, and city of residence in a text file. You can use an online translator"
   ]
  },
  {
   "cell_type": "markdown",
   "id": "610387c5",
   "metadata": {},
   "source": [
    "Text 1:\\\n",
    "HRB 12 286 -- 20. 12. 2001: Beispiel Corp GmbH, Wiesbaden. Hans\\\n",
    "Wundertoll ist zum Vorsitzenden des Vorstandes ernannt. Prokura zusammen\\\n",
    "mit einem Prokuristen oder mit einem Vorstandsmitglied: Udo Martin, 19. 03.\\\n",
    "1945, 51234 Mainz; Frank Fischer, 01. 01. 1960, 32340 Oberaula; Eckart\\\n",
    "Gärtner, 27. 12. 1967, 55127 Mainz.\n",
    "\n",
    "Text2:\\\n",
    "HRB 12286: Beispiel Zwei AG, Kormoranstarsse 5, 65244 Wiesbaden. Bestellt\\\n",
    "als Vorstand: Mathias, Tanja, Ober(Taunus), *04.05.1973; Dr. Jung, Ole,\\\n",
    "Wiesbaden, *27.08.1999."
   ]
  },
  {
   "cell_type": "markdown",
   "id": "8ed2f9ea",
   "metadata": {},
   "source": [
    "#### Answer:\n",
    "\n",
    "Text 1: \\\n",
    "Company name: Beispiel Corp GmbH \\\n",
    "Commercial register numbers: HRB 12 286 \\\n",
    "Personal data: \n",
    "- Hans Wundertoll, Präsident des Verwaltungsrates; \n",
    "- Udo Martin, Vorstandsmitglied, 51234 Mainz, 19.03.1945; \n",
    "- Frank Fischer, Vorstandsmitglied, 32340 Oberaula, 01.01.1960; \n",
    "- Eckart Gärtner, Vorstandsmitglied, 55127 Mainz, 27.12.1967\n",
    "\n",
    "Text 2: \\\n",
    "Company name: Beispiel Zwei AG \\\n",
    "Commercial register numbers: HRB 12286 \\\n",
    "Personal data: \n",
    "- Mathias, Tanja, Vorstandsmitglied, Ober(Taunus), 04.05.1973;\n",
    "- Dr. Jung, Ole, Vorstandsmitglied, Wiesbaden, 27.08.1999\n"
   ]
  },
  {
   "cell_type": "code",
   "execution_count": null,
   "id": "ec2b7f3c",
   "metadata": {},
   "outputs": [],
   "source": []
  }
 ],
 "metadata": {
  "kernelspec": {
   "display_name": "Python 3",
   "language": "python",
   "name": "python3"
  },
  "language_info": {
   "codemirror_mode": {
    "name": "ipython",
    "version": 3
   },
   "file_extension": ".py",
   "mimetype": "text/x-python",
   "name": "python",
   "nbconvert_exporter": "python",
   "pygments_lexer": "ipython3",
   "version": "3.9.0"
  }
 },
 "nbformat": 4,
 "nbformat_minor": 5
}
