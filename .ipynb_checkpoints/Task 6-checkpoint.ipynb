{
 "cells": [
  {
   "cell_type": "markdown",
   "id": "516d2c22",
   "metadata": {},
   "source": [
    "#### 6. NumPy - random walk: \n",
    "a. Write a program that creates the NumPy array with a leading element of 0. \\\n",
    "b. Fill the table with 100 numbers. Each number should be a sum of the previous number and the value drawn from the set (-1, 1). \\\n",
    "c. Create a graph based on the data in the table. \\\n",
    "d. Find minimum and maximum values in the created array. \\\n",
    "e. Simulate creating an array 50 times and see how many cases have managed to exceed 30 in any given step. Illustrate the results on the graph. \\\n"
   ]
  },
  {
   "cell_type": "markdown",
   "id": "eb13ff25",
   "metadata": {},
   "source": [
    "#### Answer: "
   ]
  },
  {
   "cell_type": "code",
   "execution_count": 2,
   "id": "73def43e",
   "metadata": {},
   "outputs": [
    {
     "name": "stdout",
     "output_type": "stream",
     "text": [
      "Note: you may need to restart the kernel to use updated packages.\n"
     ]
    },
    {
     "name": "stderr",
     "output_type": "stream",
     "text": [
      "'C:\\Users\\Windows' is not recognized as an internal or external command,\n",
      "operable program or batch file.\n"
     ]
    }
   ],
   "source": []
  },
  {
   "cell_type": "code",
   "execution_count": null,
   "id": "11af584b",
   "metadata": {},
   "outputs": [],
   "source": []
  }
 ],
 "metadata": {
  "kernelspec": {
   "display_name": "Python 3",
   "language": "python",
   "name": "python3"
  },
  "language_info": {
   "codemirror_mode": {
    "name": "ipython",
    "version": 3
   },
   "file_extension": ".py",
   "mimetype": "text/x-python",
   "name": "python",
   "nbconvert_exporter": "python",
   "pygments_lexer": "ipython3",
   "version": "3.9.0"
  }
 },
 "nbformat": 4,
 "nbformat_minor": 5
}
