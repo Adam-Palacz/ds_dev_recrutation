{
 "cells": [
  {
   "cell_type": "markdown",
   "id": "a3a4ef46",
   "metadata": {},
   "source": [
    "#### 4. For the tables below:\n",
    "\n",
    "![table](task_4_table.png)\n",
    "\n",
    "a. Write SQL query that will return people names ending with \"ski\". \\\n",
    "b. Write SQL query that will retrieve all the records from the person_address table along with the people referenced in the table's fields. \\\n",
    "c. Write an SQL query that creates an index to speed up queries like: \\\n",
    "SELECT * FROM person WHERE first_name = 'Alan' AND last_name = 'Kowalski';"
   ]
  },
  {
   "cell_type": "markdown",
   "id": "7c8f7064",
   "metadata": {},
   "source": [
    "#### Answer: \n",
    "a. SELECT last_name FROM person WHERE last_name LIKE '%ski'; \\\n",
    "b. SELECT * FROM person_address LEFT JOIN person  ON person_address.person_id = person.id; \\\n",
    "c. CREATE INDEX person_last_name_asc ON person(first_name, last_name ASC);"
   ]
  }
 ],
 "metadata": {
  "kernelspec": {
   "display_name": "Python 3",
   "language": "python",
   "name": "python3"
  },
  "language_info": {
   "codemirror_mode": {
    "name": "ipython",
    "version": 3
   },
   "file_extension": ".py",
   "mimetype": "text/x-python",
   "name": "python",
   "nbconvert_exporter": "python",
   "pygments_lexer": "ipython3",
   "version": "3.9.0"
  }
 },
 "nbformat": 4,
 "nbformat_minor": 5
}
