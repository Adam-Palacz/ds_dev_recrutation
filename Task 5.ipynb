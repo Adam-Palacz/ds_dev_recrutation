{
 "cells": [
  {
   "cell_type": "markdown",
   "id": "1131791a",
   "metadata": {},
   "source": [
    "5. Take a look at the XPATH documentation: https://www.w3.org/TR/xpath-31/\n",
    "Create xpath queries pointing to HTML elements of the https://companyhouse.de\n",
    "page highlighted in the image below:\n",
    "\n",
    "![table](task_5_table.png)"
   ]
  },
  {
   "cell_type": "markdown",
   "id": "a4ad1b34",
   "metadata": {},
   "source": [
    "#### answer: "
   ]
  },
  {
   "cell_type": "markdown",
   "id": "5d324342",
   "metadata": {},
   "source": [
    "Company logo\n",
    "\n",
    "relative path: \\\n",
    "//*[@id=\"logo\"]/a[1]/img\n",
    "\n",
    "absolute path: \\\n",
    "/html/body/div[1]/header/div/div[1]/div[1]/a[1]/img"
   ]
  },
  {
   "cell_type": "markdown",
   "id": "0b612f25",
   "metadata": {},
   "source": [
    "Search logo\n",
    "\n",
    "relative path: \\\n",
    "//*[@id=\"search-btn\"]/i\n",
    "\n",
    "absolute path: \\\n",
    "/html/body/div[1]/header/div/div[1]/div[2]/div/a/i"
   ]
  },
  {
   "cell_type": "markdown",
   "id": "f856248e",
   "metadata": {},
   "source": [
    "\"Mehr erfahren\" logo\n",
    "\n",
    "relative path: \\\n",
    "//*[@id=\"slide-29-layer-4\"]\n",
    "\n",
    "absolute path: \\\n",
    "/html/body/div[1]/div[3]/div/div[1]/div/div/div/div/div[1]/div/ul/li/div[4]/div/div/a"
   ]
  }
 ],
 "metadata": {
  "kernelspec": {
   "display_name": "Python 3",
   "language": "python",
   "name": "python3"
  },
  "language_info": {
   "codemirror_mode": {
    "name": "ipython",
    "version": 3
   },
   "file_extension": ".py",
   "mimetype": "text/x-python",
   "name": "python",
   "nbconvert_exporter": "python",
   "pygments_lexer": "ipython3",
   "version": "3.9.0"
  }
 },
 "nbformat": 4,
 "nbformat_minor": 5
}
